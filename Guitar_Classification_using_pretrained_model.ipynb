{
 "cells": [
  {
   "cell_type": "markdown",
   "metadata": {
    "colab_type": "text",
    "id": "JzVCjWWaYhFZ"
   },
   "source": [
    "# Deep Learning Guitar Classification Project\n",
    "\n",
    "This is Deeplearning Project with limited amount of data to classify images of guitars into two classes.\n",
    "\n",
    "*   Acoustic Guitar\n",
    "*   Electric Guitar\n",
    "\n",
    "\n"
   ]
  },
  {
   "cell_type": "code",
   "execution_count": null,
   "metadata": {
    "colab": {},
    "colab_type": "code",
    "id": "7T87qYYO_9ix"
   },
   "outputs": [],
   "source": [
    "#Import Libraries \n",
    "import os\n",
    "import glob\n",
    "import random\n",
    "import zipfile\n",
    "import shutil\n",
    "from tqdm import tqdm\n",
    "import IPython.display as display\n",
    "from PIL import Image\n",
    "import numpy as np\n",
    "from sklearn.metrics import confusion_matrix"
   ]
  },
  {
   "cell_type": "code",
   "execution_count": null,
   "metadata": {
    "colab": {},
    "colab_type": "code",
    "id": "4H-9_v33492h"
   },
   "outputs": [],
   "source": [
    "%reload_ext autoreload\n",
    "%autoreload 2\n",
    "%matplotlib inline"
   ]
  },
  {
   "cell_type": "code",
   "execution_count": null,
   "metadata": {
    "colab": {},
    "colab_type": "code",
    "id": "LKWFqTZT5gtZ"
   },
   "outputs": [],
   "source": [
    "# using fastai vision library\n",
    "from fastai.vision import *\n",
    "from fastai.metrics import error_rate"
   ]
  },
  {
   "cell_type": "code",
   "execution_count": null,
   "metadata": {
    "colab": {},
    "colab_type": "code",
    "id": "nFS9Rk32_vEa"
   },
   "outputs": [],
   "source": [
    "#unzip file and extract data\n",
    "with zipfile.ZipFile('image_data/GuitarDatasetChallenge.zip', 'r') as zip_ref:\n",
    "    zip_ref.extractall('/data')"
   ]
  },
  {
   "cell_type": "code",
   "execution_count": null,
   "metadata": {
    "colab": {},
    "colab_type": "code",
    "id": "RC8q4zXYvrf6"
   },
   "outputs": [],
   "source": [
    "#path to the extracted data folder\n",
    "path = '/data/'"
   ]
  },
  {
   "cell_type": "markdown",
   "metadata": {
    "colab_type": "text",
    "id": "RHBIoWMTCn2B"
   },
   "source": [
    "# **Make data folder function**\n",
    "This function performs the following tasks to design the directories similar to imagenet\n",
    "\n",
    "*   Splits data into standard train , test and validation set \n",
    "*   Makes new directory to the splitted data \n",
    "\n",
    "*   Removes the initial directory with data\n",
    "\n",
    "\n",
    "\n"
   ]
  },
  {
   "cell_type": "code",
   "execution_count": null,
   "metadata": {
    "colab": {},
    "colab_type": "code",
    "id": "ZeHGNQ8yu58X"
   },
   "outputs": [],
   "source": [
    "def make_data_folders(path):\n",
    "  os.makedirs(os.path.join(path,'GuitarDatasetChallenge/train/acoustic'))\n",
    "  os.makedirs(os.path.join(path,'GuitarDatasetChallenge/valid/electric'))\n",
    "  os.makedirs(os.path.join(path,'GuitarDatasetChallenge/test'))\n",
    "  os.makedirs(os.path.join(path,'GuitarDatasetChallenge/train/electric'))\n",
    "  os.makedirs(os.path.join(path,'GuitarDatasetChallenge/valid/acoustic'))\n",
    "  delimeter ='/*jpg'\n",
    "  acq_dir = glob.glob(os.path.join(path , 'GuitarDatasetChallenge/acoustic') + delimeter )\n",
    "  elec_dir = glob.glob(os.path.join(path , 'GuitarDatasetChallenge/electric') + delimeter )\n",
    "  random.seed(55)\n",
    "  random.shuffle(acq_dir)\n",
    "  random.shuffle(elec_dir)\n",
    "  train_percentage = 0.75\n",
    "  valid_percentage = 0.15\n",
    "  print('\\nsplitting and moving acoustic guitar images to train, test and valid sub-directories')\n",
    "  for i in tqdm(range(0, len(acq_dir))):\n",
    "    if i <= int(len(acq_dir) * train_percentage):\n",
    "      shutil.move(acq_dir[i], os.path.join(path,'GuitarDatasetChallenge/train/acoustic'))\n",
    "    elif i <=int(len(acq_dir) * valid_percentage)+ int(len(acq_dir) * train_percentage):\n",
    "      shutil.move(acq_dir[i], os.path.join(path,'GuitarDatasetChallenge/valid/acoustic'))\n",
    "    else:\n",
    "      shutil.move(acq_dir[i], os.path.join(path,'GuitarDatasetChallenge/test'))\n",
    "    \n",
    "  print('splitting and moving electric guitar images to train, test and valid sub-directories')\n",
    "\n",
    "  for i in tqdm(range(0, len(elec_dir))):\n",
    "      if i <= int(len(elec_dir) * train_percentage):\n",
    "        shutil.move(elec_dir[i], os.path.join(path,'GuitarDatasetChallenge/train/electric'))\n",
    "      elif i <=int(len(elec_dir) * valid_percentage)+ int(len(elec_dir) * train_percentage):\n",
    "        shutil.move(elec_dir[i], os.path.join(path,'GuitarDatasetChallenge/valid/electric'))\n",
    "      else:\n",
    "        shutil.move(elec_dir[i], os.path.join(path,'GuitarDatasetChallenge/test'))\n",
    "  train_elec = len(glob.glob(os.path.join(path,'GuitarDatasetChallenge/train/electric') + delimeter))\n",
    "  valid_elec = len(glob.glob(os.path.join(path,'GuitarDatasetChallenge/valid/electric') + delimeter))\n",
    "  train_acq = len(glob.glob(os.path.join(path,'GuitarDatasetChallenge/train/acoustic') + delimeter))\n",
    "  valid_acq = len(glob.glob(os.path.join(path,'GuitarDatasetChallenge/valid/acoustic') + delimeter))\n",
    "  print('finished moving acoustic and electric guitar images')\n",
    "  print(f'There are {train_elec} electric train data')\n",
    "  print(f'There are {valid_elec} electric valid data')\n",
    "  print(f'There are {train_acq} acoustic train data')\n",
    "  print(f'There are {valid_acq} acoustic valid data')\n",
    "  shutil.rmtree(os.path.join(path,'GuitarDatasetChallenge/electric'))\n",
    "  shutil.rmtree(os.path.join(path,'GuitarDatasetChallenge/acoustic'))\n",
    "    \n"
   ]
  },
  {
   "cell_type": "code",
   "execution_count": null,
   "metadata": {
    "colab": {
     "base_uri": "https://localhost:8080/",
     "height": 195
    },
    "colab_type": "code",
    "id": "LWNYH9e0yul8",
    "outputId": "1282d9d4-bf03-45ab-cce6-4093a52c8c0b"
   },
   "outputs": [],
   "source": [
    "make_data_folders(path)"
   ]
  },
  {
   "cell_type": "code",
   "execution_count": null,
   "metadata": {
    "colab": {},
    "colab_type": "code",
    "id": "enRU3wBIWZ5s"
   },
   "outputs": [],
   "source": [
    "#batch size\n",
    "bs = 4"
   ]
  },
  {
   "cell_type": "code",
   "execution_count": null,
   "metadata": {
    "colab": {},
    "colab_type": "code",
    "id": "bz0-IN_L7onu"
   },
   "outputs": [],
   "source": [
    "path_2 =os.path.join(path, 'GuitarDatasetChallenge' )\n"
   ]
  },
  {
   "cell_type": "code",
   "execution_count": null,
   "metadata": {
    "colab": {},
    "colab_type": "code",
    "id": "QcJVii7O77qX"
   },
   "outputs": [],
   "source": [
    "#path to images\n",
    "path_to_im = Path(path_2)"
   ]
  },
  {
   "cell_type": "code",
   "execution_count": null,
   "metadata": {
    "colab": {
     "base_uri": "https://localhost:8080/",
     "height": 35
    },
    "colab_type": "code",
    "id": "Q9VJaNHt8umO",
    "outputId": "18f65008-8416-4ddc-8ed0-dcf0a35c9ee5"
   },
   "outputs": [],
   "source": [
    "path_to_im"
   ]
  },
  {
   "cell_type": "code",
   "execution_count": null,
   "metadata": {
    "colab": {},
    "colab_type": "code",
    "id": "xIX9Ecc5GuxZ"
   },
   "outputs": [],
   "source": [
    "\n",
    "# read the images using fastai standard dataloader, perform random data augmentation , resize the images and normalize images with imagenet stats\n",
    "data = (ImageList.from_folder(path_to_im)\n",
    "        .split_by_folder()          \n",
    "        .label_from_folder()\n",
    "        .add_test_folder('test')\n",
    "        .transform(tfms=get_transforms(), size=224)\n",
    "        .databunch(bs=bs)\n",
    "        .normalize(imagenet_stats)) "
   ]
  },
  {
   "cell_type": "code",
   "execution_count": null,
   "metadata": {
    "colab": {
     "base_uri": "https://localhost:8080/",
     "height": 441
    },
    "colab_type": "code",
    "id": "0_cxTIIu-c3m",
    "outputId": "c23dd478-fe7f-482a-d1c6-2a250cb27313"
   },
   "outputs": [],
   "source": [
    "# view few pictures just to get a sense howof the images look like\n",
    "data.show_batch(rows=3, figsize=(7,6))"
   ]
  },
  {
   "cell_type": "code",
   "execution_count": null,
   "metadata": {
    "colab": {
     "base_uri": "https://localhost:8080/",
     "height": 52
    },
    "colab_type": "code",
    "id": "fiRs8HUR-0TT",
    "outputId": "2f57c1ec-8d09-4223-91ff-668e302e4597"
   },
   "outputs": [],
   "source": [
    "# view the data classes available in the dataset\n",
    "print(data.classes)\n",
    "len(data.classes),data.c"
   ]
  },
  {
   "cell_type": "code",
   "execution_count": null,
   "metadata": {
    "colab": {
     "base_uri": "https://localhost:8080/",
     "height": 52
    },
    "colab_type": "code",
    "id": "AQZu4BCr-27N",
    "outputId": "8bdf2682-3220-44c7-a1c1-fd86945337e7"
   },
   "outputs": [],
   "source": [
    "#load a pretrained resnet conv net with 18 layers\n",
    "learn = cnn_learner(data, models.resnet18, metrics=error_rate)"
   ]
  },
  {
   "cell_type": "code",
   "execution_count": null,
   "metadata": {
    "colab": {
     "base_uri": "https://localhost:8080/",
     "height": 1000
    },
    "colab_type": "code",
    "id": "UUPi1HCv-NY5",
    "outputId": "d3a0b3b2-c35d-42ec-dd15-a8dbc08a5168"
   },
   "outputs": [],
   "source": [
    "#summary of the model just to see the overall architecture\n",
    "learn.model"
   ]
  },
  {
   "cell_type": "code",
   "execution_count": null,
   "metadata": {
    "colab": {},
    "colab_type": "code",
    "id": "gb39U30LRif_"
   },
   "outputs": [],
   "source": [
    "??learn.fit_one_cycle()"
   ]
  },
  {
   "cell_type": "code",
   "execution_count": null,
   "metadata": {
    "colab": {
     "base_uri": "https://localhost:8080/",
     "height": 135
    },
    "colab_type": "code",
    "id": "SuqM7UQV-P2M",
    "outputId": "f5558388-3e13-4e6f-fae1-af2a682ea916"
   },
   "outputs": [],
   "source": [
    "# train the model using one fit cycle policy \n",
    "learn.fit_one_cycle(3)"
   ]
  },
  {
   "cell_type": "code",
   "execution_count": null,
   "metadata": {
    "colab": {
     "base_uri": "https://localhost:8080/",
     "height": 35
    },
    "colab_type": "code",
    "id": "oWnc3ZiS_JOJ",
    "outputId": "8644f8d5-1f0d-44ea-84b8-b3925fc348fd"
   },
   "outputs": [],
   "source": [
    "interp = ClassificationInterpretation.from_learner(learn)\n",
    "\n",
    "losses,idxs = interp.top_losses()\n",
    "\n",
    "len(data.valid_ds)==len(losses)==len(idxs)"
   ]
  },
  {
   "cell_type": "code",
   "execution_count": null,
   "metadata": {
    "colab": {
     "base_uri": "https://localhost:8080/",
     "height": 708
    },
    "colab_type": "code",
    "id": "1SfpEa0l_OxL",
    "outputId": "8384f51c-9002-4b99-9c3c-d88679c79493"
   },
   "outputs": [],
   "source": [
    "interp.plot_top_losses(9, figsize=(15,11))"
   ]
  },
  {
   "cell_type": "code",
   "execution_count": null,
   "metadata": {
    "colab": {
     "base_uri": "https://localhost:8080/",
     "height": 743
    },
    "colab_type": "code",
    "id": "4uK1k1rl_Yem",
    "outputId": "a09cd815-67f1-450d-a532-ec55283024bf"
   },
   "outputs": [],
   "source": [
    "interp.plot_confusion_matrix(figsize=(12,12), dpi=60)"
   ]
  },
  {
   "cell_type": "code",
   "execution_count": null,
   "metadata": {
    "colab": {
     "base_uri": "https://localhost:8080/",
     "height": 35
    },
    "colab_type": "code",
    "id": "Ep0vUzA-EY_Q",
    "outputId": "9bc13280-6b0c-46b8-a996-e1103c6c5c99"
   },
   "outputs": [],
   "source": [
    "path_to_im"
   ]
  },
  {
   "cell_type": "markdown",
   "metadata": {
    "colab_type": "text",
    "id": "FR6NTal37v6V"
   },
   "source": [
    "## save and make predictions on the test set"
   ]
  },
  {
   "cell_type": "code",
   "execution_count": null,
   "metadata": {
    "colab": {},
    "colab_type": "code",
    "id": "frmTxKWdVFsg"
   },
   "outputs": [],
   "source": [
    "learn.save('guitar_model')"
   ]
  },
  {
   "cell_type": "code",
   "execution_count": null,
   "metadata": {
    "colab": {},
    "colab_type": "code",
    "id": "C6OEKBOeEJgJ"
   },
   "outputs": [],
   "source": [
    "learn.export()\n"
   ]
  },
  {
   "cell_type": "code",
   "execution_count": null,
   "metadata": {
    "colab": {},
    "colab_type": "code",
    "id": "0X8bjxMnGLSf"
   },
   "outputs": [],
   "source": [
    "learn = load_learner(path_to_im)\n"
   ]
  },
  {
   "cell_type": "code",
   "execution_count": null,
   "metadata": {
    "colab": {
     "base_uri": "https://localhost:8080/",
     "height": 35
    },
    "colab_type": "code",
    "id": "wtxOuoGKeAB8",
    "outputId": "9782edc9-56d3-4216-d64d-5e68e12234b5"
   },
   "outputs": [],
   "source": [
    "img = data.train_ds[0][0]\n",
    "learn.predict(img)"
   ]
  },
  {
   "cell_type": "code",
   "execution_count": null,
   "metadata": {
    "colab": {},
    "colab_type": "code",
    "id": "5Rtu8uOMHYtS"
   },
   "outputs": [],
   "source": [
    "learn = load_learner(path_to_im, test=ImageList.from_folder(path_to_im/'test'))\n"
   ]
  },
  {
   "cell_type": "code",
   "execution_count": null,
   "metadata": {
    "colab": {
     "base_uri": "https://localhost:8080/",
     "height": 17
    },
    "colab_type": "code",
    "id": "k6GECuIxHr4t",
    "outputId": "697af0f5-220a-40a2-cd96-66e81e634edf"
   },
   "outputs": [],
   "source": [
    "preds, y, losses = learn.get_preds(ds_type=DatasetType.Test, with_loss=True)\n",
    "y_preds = torch.argmax(preds, dim=1)"
   ]
  },
  {
   "cell_type": "code",
   "execution_count": null,
   "metadata": {
    "colab": {},
    "colab_type": "code",
    "id": "PyAstqDpNi8n"
   },
   "outputs": [],
   "source": []
  }
 ],
 "metadata": {
  "accelerator": "GPU",
  "colab": {
   "collapsed_sections": [],
   "name": "Guitar_Classification_using_pretrained_model.ipynb",
   "provenance": [],
   "toc_visible": true
  },
  "kernelspec": {
   "display_name": "Python 3",
   "language": "python",
   "name": "python3"
  },
  "language_info": {
   "codemirror_mode": {
    "name": "ipython",
    "version": 3
   },
   "file_extension": ".py",
   "mimetype": "text/x-python",
   "name": "python",
   "nbconvert_exporter": "python",
   "pygments_lexer": "ipython3",
   "version": "3.6.8"
  },
  "varInspector": {
   "cols": {
    "lenName": 16,
    "lenType": 16,
    "lenVar": 40
   },
   "kernels_config": {
    "python": {
     "delete_cmd_postfix": "",
     "delete_cmd_prefix": "del ",
     "library": "var_list.py",
     "varRefreshCmd": "print(var_dic_list())"
    },
    "r": {
     "delete_cmd_postfix": ") ",
     "delete_cmd_prefix": "rm(",
     "library": "var_list.r",
     "varRefreshCmd": "cat(var_dic_list()) "
    }
   },
   "types_to_exclude": [
    "module",
    "function",
    "builtin_function_or_method",
    "instance",
    "_Feature"
   ],
   "window_display": false
  }
 },
 "nbformat": 4,
 "nbformat_minor": 1
}
